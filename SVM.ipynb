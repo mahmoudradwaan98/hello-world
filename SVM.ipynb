{
  "nbformat": 4,
  "nbformat_minor": 0,
  "metadata": {
    "colab": {
      "name": "SVM.ipynb",
      "provenance": [],
      "collapsed_sections": [],
      "include_colab_link": true
    },
    "kernelspec": {
      "name": "python3",
      "display_name": "Python 3"
    },
    "language_info": {
      "name": "python"
    }
  },
  "cells": [
    {
      "cell_type": "markdown",
      "metadata": {
        "id": "view-in-github",
        "colab_type": "text"
      },
      "source": [
        "<a href=\"https://colab.research.google.com/github/mahmoudradwaan98/hello-world/blob/main/SVM.ipynb\" target=\"_parent\"><img src=\"https://colab.research.google.com/assets/colab-badge.svg\" alt=\"Open In Colab\"/></a>"
      ]
    },
    {
      "cell_type": "code",
      "metadata": {
        "id": "Qyzcg1-gCWBK"
      },
      "source": [
        "import numpy as np\n",
        "import pandas as pd\n",
        "import matplotlib.pyplot as plt\n",
        "from sklearn import svm, datasets\n",
        "\n",
        "from sklearn.metrics import classification_report, ConfusionMatrixDisplay, accuracy_score, confusion_matrix\n",
        "from sklearn.datasets import make_classification, make_circles"
      ],
      "execution_count": null,
      "outputs": []
    },
    {
      "cell_type": "code",
      "metadata": {
        "id": "yA4nnxT6ClvO"
      },
      "source": [
        "def loadDataset():\n",
        "  dataset = datasets.load_iris()\n",
        "  features = dataset.data\n",
        "  labels = dataset.target\n",
        "  return dataset, features, labels"
      ],
      "execution_count": null,
      "outputs": []
    },
    {
      "cell_type": "code",
      "metadata": {
        "id": "zSSuYV2jCpbw"
      },
      "source": [
        "def prepareDataset(X, y, cls_remove=None):\n",
        "   cls = [0, 1, 2]\n",
        "   if cls_remove is not None:\n",
        "     features = []\n",
        "     labels = []\n",
        "     for index, (feat, label) in enumerate(zip(X, y)):\n",
        "       if y[index] != cls_remove:\n",
        "         features.append(feat)\n",
        "         labels.append(label)\n",
        "     cls.pop(cls_remove)\n",
        "   else:\n",
        "     features = X\n",
        "     labels = y\n",
        "   return np.array(features)[:, 2:4], np.array(labels), cls"
      ],
      "execution_count": null,
      "outputs": []
    },
    {
      "cell_type": "code",
      "metadata": {
        "id": "HDLT1EgrC2iF"
      },
      "source": [
        "def plotData(features, labels, cls, class_names):\n",
        "  colors = ['r', 'b', 'g']\n",
        "  markers = ['o', '*', '+']\n",
        "  for class_index in range(len(cls)):\n",
        "    plt.scatter(features[labels == cls[class_index],0], features[labels == cls[class_index],1], c=colors[class_index], marker=markers[class_index], label=class_names[cls[class_index]])\n",
        "  Title = \"Iris Dataset with {n} classes\".format(n=int(len(cls)))\n",
        "  plt.title(Title)\n",
        "  plt.xlabel('Petal Length (cm)')\n",
        "  plt.ylabel('Petal width (cm)')\n",
        "  plt.legend()"
      ],
      "execution_count": null,
      "outputs": []
    },
    {
      "cell_type": "code",
      "metadata": {
        "id": "OQxp3FTPC-2e"
      },
      "source": [
        "def plotRegions(model, X):\n",
        "  x_min, x_max = X[:, 0].min() - 1, X[:, 0].max() + 1\n",
        "  y_min, y_max = X[:, 1].min() - 1, X[:, 1].max() + 1\n",
        "  XX, YY = np.meshgrid(np.arange(x_min, x_max, 0.01), np.arange(y_min, y_max, 0.01))\n",
        "\n",
        "  z = model.predict(np.c_[XX.ravel(), YY.ravel()])\n",
        "  ZZ = z.reshape(XX.shape)\n",
        "  plt.contourf(XX, YY, ZZ, alpha=0.2)"
      ],
      "execution_count": null,
      "outputs": []
    },
    {
      "cell_type": "code",
      "metadata": {
        "id": "uk8XHpF_DB1x"
      },
      "source": [
        "def getAccuracy(model, x, y):\n",
        "    return model.score(x,y)*100\n",
        "\n",
        "def getClassNames(target_names):\n",
        "    cls_all = {}\n",
        "    for i, label in enumerate(target_names):\n",
        "        cls_all[i] = label\n",
        "    return cls_all"
      ],
      "execution_count": null,
      "outputs": []
    },
    {
      "cell_type": "code",
      "metadata": {
        "id": "-hx8gpqaDEr0",
        "colab": {
          "base_uri": "https://localhost:8080/",
          "height": 939
        },
        "outputId": "09a1b687-606f-4a0c-a4da-4f5e8bc648b3"
      },
      "source": [
        "def main():\n",
        "    dataset, features, labels = loadDataset()\n",
        "    X, y, cls_new = prepareDataset(features, labels, cls_remove=0)\n",
        "    class_names = getClassNames(dataset.target_names)\n",
        "\n",
        "    print('Class names=', class_names)\n",
        "    print('Updated class index:', cls_new)\n",
        "    print(\"Number of samples:\", X.shape[0])\n",
        "    print(\"Number of features:\", X.shape[1])\n",
        "\n",
        "    model = svm.SVC(kernel='linear', decision_function_shape='ovo', C=100)\n",
        "    model.fit(X, y)\n",
        "    print('Accuracy of model: {:.2f}%'.format(getAccuracy(model, X, y)))\n",
        "\n",
        "    plotData(X, y, cls_new, class_names)\n",
        "    plotRegions(model, X)\n",
        "    plt.legend(loc=\"upper left\")\n",
        "    plt.show()\n",
        "\n",
        "    y_true, y_pred = y, model.predict(X)\n",
        "    print('\\nClassification Report:\\n')\n",
        "    print(classification_report(y_true, y_pred))\n",
        "\n",
        "    print('\\nConfusion Matrix:\\n')\n",
        "    print(confusion_matrix(y, y_pred))\n",
        "    ConfusionMatrixDisplay.from_estimator(model, X, y)\n",
        "    \n",
        "if __name__ == '__main__':\n",
        "    main()"
      ],
      "execution_count": null,
      "outputs": [
        {
          "output_type": "stream",
          "name": "stdout",
          "text": [
            "Class names= {0: 'setosa', 1: 'versicolor', 2: 'virginica'}\n",
            "Updated class index: [1, 2]\n",
            "Number of samples: 100\n",
            "Number of features: 2\n",
            "Accuracy of model: 94.00%\n"
          ]
        },
        {
          "output_type": "display_data",
          "data": {
            "text/plain": [
              "<Figure size 432x288 with 1 Axes>"
            ],
            "image/png": "[encoded data removed]"
          },
          "metadata": {
            "needs_background": "light"
          }
        },
        {
          "output_type": "stream",
          "name": "stdout",
          "text": [
            "\n",
            "Classification Report:\n",
            "\n",
            "              precision    recall  f1-score   support\n",
            "\n",
            "           1       0.94      0.94      0.94        50\n",
            "           2       0.94      0.94      0.94        50\n",
            "\n",
            "    accuracy                           0.94       100\n",
            "   macro avg       0.94      0.94      0.94       100\n",
            "weighted avg       0.94      0.94      0.94       100\n",
            "\n",
            "\n",
            "Confusion Matrix:\n",
            "\n",
            "[[47  3]\n",
            " [ 3 47]]\n"
          ]
        },
        {
          "output_type": "display_data",
          "data": {
            "text/plain": [
              "<Figure size 432x288 with 2 Axes>"
            ],
            "image/png": "[encoded data removed]"
          },
          "metadata": {
            "needs_background": "light"
          }
        }
      ]
    },
    {
      "cell_type": "code",
      "source": [
        "import pandas as pd"
      ],
      "metadata": {
        "id": "xiXP3vuwKoyL"
      },
      "execution_count": null,
      "outputs": []
    },
    {
      "cell_type": "code",
      "source": [
        "train = pd.read_csv(\"/content/drive/MyDrive/Dataset/DUMD_train.csv\")\n",
        "test = pd.read_csv(\"/content/drive/MyDrive/Dataset/DUMD_test.csv\")"
      ],
      "metadata": {
        "id": "rNQmGisY6_BB"
      },
      "execution_count": null,
      "outputs": []
    },
    {
      "cell_type": "code",
      "source": [
        "X_tr = train.iloc[:, 0:5].values\n",
        "y_tr = train.iloc[:, 5:].values\n",
        "y_tr = np.reshape(y_tr, (323,))\n",
        "\n",
        "X_ts = test.iloc[:, 0:5].values\n",
        "y_ts = test.iloc[:, 5:].values\n",
        "y_ts = np.reshape(y_ts, (80,))"
      ],
      "metadata": {
        "id": "scJKwldVLGog"
      },
      "execution_count": null,
      "outputs": []
    },
    {
      "cell_type": "code",
      "source": [
        "model = svm.SVC(kernel='linear', decision_function_shape='ovr', C=1)\n",
        "model.fit(X_tr, y_tr)\n",
        "print('Accuracy of model: {:.2f}%'.format(getAccuracy(model, X_ts, y_ts)))"
      ],
      "metadata": {
        "colab": {
          "base_uri": "https://localhost:8080/"
        },
        "id": "DY7EmWIqLITd",
        "outputId": "25b504d7-11fa-4c0e-f754-0f9a7241f4a2"
      },
      "execution_count": null,
      "outputs": [
        {
          "output_type": "stream",
          "name": "stdout",
          "text": [
            "Accuracy of model: 91.25%\n"
          ]
        }
      ]
    },
    {
      "cell_type": "code",
      "source": [
        "ConfusionMatrixDisplay.from_estimator(model, X_ts, y_ts)"
      ],
      "metadata": {
        "colab": {
          "base_uri": "https://localhost:8080/",
          "height": 297
        },
        "id": "sYjjolK_MYTp",
        "outputId": "a98a907f-106b-40c3-81d1-8669bb396f89"
      },
      "execution_count": null,
      "outputs": [
        {
          "output_type": "execute_result",
          "data": {
            "text/plain": [
              "<sklearn.metrics._plot.confusion_matrix.ConfusionMatrixDisplay at 0x7f4f9a7e56d0>"
            ]
          },
          "metadata": {},
          "execution_count": 17
        },
        {
          "output_type": "display_data",
          "data": {
            "text/plain": [
              "<Figure size 432x288 with 2 Axes>"
            ],
            "image/png": "[encoded data removed]"
          },
          "metadata": {
            "needs_background": "light"
          }
        }
      ]
    },
    {
      "cell_type": "code",
      "source": [
        ""
      ],
      "metadata": {
        "id": "aoXxcKJPMpi5"
      },
      "execution_count": null,
      "outputs": []
    }
  ]
}